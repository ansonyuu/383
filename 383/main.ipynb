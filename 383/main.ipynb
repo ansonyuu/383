{
 "cells": [
  {
   "cell_type": "code",
   "execution_count": 12,
   "metadata": {},
   "outputs": [
    {
     "name": "stdout",
     "output_type": "stream",
     "text": [
      "Defaulting to user installation because normal site-packages is not writeable\n",
      "Requirement already satisfied: sympy in /Users/ansonyu/Library/Python/3.9/lib/python/site-packages (1.12)\n",
      "Requirement already satisfied: mpmath>=0.19 in /Users/ansonyu/Library/Python/3.9/lib/python/site-packages (from sympy) (1.3.0)\n",
      "\u001b[33mWARNING: You are using pip version 21.2.4; however, version 23.2.1 is available.\n",
      "You should consider upgrading via the '/Library/Developer/CommandLineTools/usr/bin/python3 -m pip install --upgrade pip' command.\u001b[0m\n",
      "Note: you may need to restart the kernel to use updated packages.\n"
     ]
    }
   ],
   "source": [
    "# Formula for laminar volumetric flow\n",
    "%pip install -U sympy "
   ]
  },
  {
   "cell_type": "markdown",
   "metadata": {},
   "source": [
    "# Importing Packages"
   ]
  },
  {
   "cell_type": "code",
   "execution_count": 13,
   "metadata": {},
   "outputs": [],
   "source": [
    "import sympy as sp\n",
    "from sympy.solvers import solve, nsolve\n",
    "from sympy import Symbol\n",
    "import math\n"
   ]
  },
  {
   "cell_type": "markdown",
   "metadata": {},
   "source": [
    "# Defining Variables"
   ]
  },
  {
   "cell_type": "code",
   "execution_count": 14,
   "metadata": {},
   "outputs": [],
   "source": [
    "# DEFINE PARAMETERS\n",
    "l_tube = 0.2 # [m]\n",
    "h_water_initial = 0.1 # [m]\n",
    "h_water_final = 0.02 # [m]\n",
    "d_tube = 7.94 * 10**-3 # [m]\n",
    "v_tank = 0\n",
    "area_tank = 0.32 * 0.26 # [m^2]\n",
    "t_final = 0 # [s]\n",
    "\n",
    "# Area of Tube, use only 1:\n",
    "# 1. Without t-joint\n",
    "area_tube = math.pi * (d_tube / 2)**2 # [m^2]\n",
    "# 2. With t-joint\n",
    "# area_tube_t_joint = 2 * area_tube # [m^2]\n",
    "\n",
    "\n",
    "## DEFINE CONSTANTS\n",
    "density = 1000 # [kg/m^3]\n",
    "viscosity = 8.9 * 10**-4 # [Pa*s]\n",
    "g = 9.81 # [m/s^2]\n",
    "e = 0.0025 *(10**-3) #[m]\n",
    "k = 0.42 #[n/a]\n",
    "\n",
    "## DEFINE MODELLING VARIABLES\n",
    "t_interval = 1 # [s]\n",
    "t_drain = 0 # [s]\n",
    "h_water = h_water_initial # [m]\n",
    "initial = True"
   ]
  },
  {
   "cell_type": "code",
   "execution_count": 15,
   "metadata": {},
   "outputs": [],
   "source": [
    "# HELPER FUNCTIONS\n",
    "# def ht(v_tube, t):\n",
    "#     ht = 0.1 - (area_tube / area_tank) * v_tube * t\n",
    "#     return ht\n",
    "\n",
    "def reynolds(velocity, length):\n",
    "    return (density * velocity * length / viscosity)\n",
    "\n",
    "# CALCULATION - INITIAL CONDITIONS\n",
    "v_tube = Symbol('v_tube')\n",
    "v_tube_sol = solve(\n",
    "    (0.5 * density * ((area_tube / area_tank)**2) * (v_tube**2))\n",
    "    + (density * g * h_water_initial)\n",
    "    - (0.5*density*(v_tube**2))\n",
    "    - ((density * g) * (64 / ((density * v_tube * d_tube) / viscosity)) * (l_tube * v_tube**2 / (2*g*d_tube)) ),\n",
    "    v_tube)[1]\n",
    "    "
   ]
  },
  {
   "cell_type": "code",
   "execution_count": 16,
   "metadata": {},
   "outputs": [
    {
     "name": "stdout",
     "output_type": "stream",
     "text": [
      "11716.1841694937\n",
      "turbulent!!\n"
     ]
    },
    {
     "ename": "TypeError",
     "evalue": "cannot create mpf from f",
     "output_type": "error",
     "traceback": [
      "\u001b[0;31m---------------------------------------------------------------------------\u001b[0m",
      "\u001b[0;31mTypeError\u001b[0m                                 Traceback (most recent call last)",
      "Cell \u001b[0;32mIn[16], line 19\u001b[0m\n\u001b[1;32m     17\u001b[0m \u001b[39melse\u001b[39;00m:\n\u001b[1;32m     18\u001b[0m     \u001b[39mprint\u001b[39m(\u001b[39m\"\u001b[39m\u001b[39mturbulent!!\u001b[39m\u001b[39m\"\u001b[39m)\n\u001b[0;32m---> 19\u001b[0m     friction \u001b[39m=\u001b[39m nsolve((\u001b[39m1\u001b[39;49m\u001b[39m/\u001b[39;49msp\u001b[39m.\u001b[39;49msqrt(f)) \u001b[39m+\u001b[39;49m (\u001b[39m2\u001b[39;49m\u001b[39m*\u001b[39;49msp\u001b[39m.\u001b[39;49mlog(((e\u001b[39m/\u001b[39;49md_tube)\u001b[39m/\u001b[39;49m\u001b[39m3.7\u001b[39;49m)\u001b[39m+\u001b[39;49m(\u001b[39m2.51\u001b[39;49m\u001b[39m/\u001b[39;49m(cur_reynolds\u001b[39m*\u001b[39;49msp\u001b[39m.\u001b[39;49msqrt(f))),\u001b[39m10\u001b[39;49m)), f)\n\u001b[1;32m     20\u001b[0m     \u001b[39m# friction = 4\u001b[39;00m\n\u001b[1;32m     21\u001b[0m     \u001b[39mprint\u001b[39m(friction)\n",
      "File \u001b[0;32m~/Library/Python/3.9/lib/python/site-packages/sympy/utilities/decorator.py:87\u001b[0m, in \u001b[0;36mconserve_mpmath_dps.<locals>.func_wrapper\u001b[0;34m(*args, **kwargs)\u001b[0m\n\u001b[1;32m     85\u001b[0m dps \u001b[39m=\u001b[39m mpmath\u001b[39m.\u001b[39mmp\u001b[39m.\u001b[39mdps\n\u001b[1;32m     86\u001b[0m \u001b[39mtry\u001b[39;00m:\n\u001b[0;32m---> 87\u001b[0m     \u001b[39mreturn\u001b[39;00m func(\u001b[39m*\u001b[39;49margs, \u001b[39m*\u001b[39;49m\u001b[39m*\u001b[39;49mkwargs)\n\u001b[1;32m     88\u001b[0m \u001b[39mfinally\u001b[39;00m:\n\u001b[1;32m     89\u001b[0m     mpmath\u001b[39m.\u001b[39mmp\u001b[39m.\u001b[39mdps \u001b[39m=\u001b[39m dps\n",
      "File \u001b[0;32m~/Library/Python/3.9/lib/python/site-packages/sympy/solvers/solvers.py:3044\u001b[0m, in \u001b[0;36mnsolve\u001b[0;34m(dict, *args, **kwargs)\u001b[0m\n\u001b[1;32m   3038\u001b[0m \u001b[39m# the function is much better behaved if there is no denominator\u001b[39;00m\n\u001b[1;32m   3039\u001b[0m \u001b[39m# but sending the numerator is left to the user since sometimes\u001b[39;00m\n\u001b[1;32m   3040\u001b[0m \u001b[39m# the function is better behaved when the denominator is present\u001b[39;00m\n\u001b[1;32m   3041\u001b[0m \u001b[39m# e.g., issue 11768\u001b[39;00m\n\u001b[1;32m   3043\u001b[0m f \u001b[39m=\u001b[39m lambdify(fargs, f, modules)\n\u001b[0;32m-> 3044\u001b[0m x \u001b[39m=\u001b[39m sympify(findroot(f, x0, \u001b[39m*\u001b[39;49m\u001b[39m*\u001b[39;49mkwargs))\n\u001b[1;32m   3045\u001b[0m \u001b[39mif\u001b[39;00m as_dict:\n\u001b[1;32m   3046\u001b[0m     \u001b[39mreturn\u001b[39;00m [{fargs: x}]\n",
      "File \u001b[0;32m~/Library/Python/3.9/lib/python/site-packages/mpmath/calculus/optimization.py:920\u001b[0m, in \u001b[0;36mfindroot\u001b[0;34m(ctx, f, x0, solver, tol, verbose, verify, **kwargs)\u001b[0m\n\u001b[1;32m    918\u001b[0m     x0 \u001b[39m=\u001b[39m [ctx\u001b[39m.\u001b[39mconvert(x) \u001b[39mfor\u001b[39;00m x \u001b[39min\u001b[39;00m x0]\n\u001b[1;32m    919\u001b[0m \u001b[39melse\u001b[39;00m:\n\u001b[0;32m--> 920\u001b[0m     x0 \u001b[39m=\u001b[39m [ctx\u001b[39m.\u001b[39;49mconvert(x0)]\n\u001b[1;32m    922\u001b[0m \u001b[39mif\u001b[39;00m \u001b[39misinstance\u001b[39m(solver, \u001b[39mstr\u001b[39m):\n\u001b[1;32m    923\u001b[0m     \u001b[39mtry\u001b[39;00m:\n",
      "File \u001b[0;32m~/Library/Python/3.9/lib/python/site-packages/mpmath/ctx_mp_python.py:671\u001b[0m, in \u001b[0;36mPythonMPContext.convert\u001b[0;34m(ctx, x, strings)\u001b[0m\n\u001b[1;32m    669\u001b[0m     \u001b[39mtry\u001b[39;00m: \u001b[39mreturn\u001b[39;00m ctx\u001b[39m.\u001b[39mmake_mpf(from_Decimal(x, prec, rounding))\n\u001b[1;32m    670\u001b[0m     \u001b[39mexcept\u001b[39;00m: \u001b[39mpass\u001b[39;00m\n\u001b[0;32m--> 671\u001b[0m \u001b[39mreturn\u001b[39;00m ctx\u001b[39m.\u001b[39;49m_convert_fallback(x, strings)\n",
      "File \u001b[0;32m~/Library/Python/3.9/lib/python/site-packages/mpmath/ctx_mp.py:634\u001b[0m, in \u001b[0;36mMPContext._convert_fallback\u001b[0;34m(ctx, x, strings)\u001b[0m\n\u001b[1;32m    632\u001b[0m     \u001b[39melse\u001b[39;00m:\n\u001b[1;32m    633\u001b[0m         \u001b[39mraise\u001b[39;00m \u001b[39mValueError\u001b[39;00m(\u001b[39m\"\u001b[39m\u001b[39mcan only create mpf from zero-width interval\u001b[39m\u001b[39m\"\u001b[39m)\n\u001b[0;32m--> 634\u001b[0m \u001b[39mraise\u001b[39;00m \u001b[39mTypeError\u001b[39;00m(\u001b[39m\"\u001b[39m\u001b[39mcannot create mpf from \u001b[39m\u001b[39m\"\u001b[39m \u001b[39m+\u001b[39m \u001b[39mrepr\u001b[39m(x))\n",
      "\u001b[0;31mTypeError\u001b[0m: cannot create mpf from f"
     ]
    }
   ],
   "source": [
    "def reynolds(velocity, length):\n",
    "    return (density * velocity * length / viscosity)\n",
    "\n",
    "while(h_water > h_water_final):\n",
    "\n",
    "    h_water -= (area_tube / area_tank) * v_tube_sol * t_interval\n",
    "\n",
    "    # the imicit equation\n",
    "    v_tube = Symbol('v_tube')\n",
    "    f =  Symbol('f')\n",
    "    cur_reynolds = reynolds(v_tube_sol, d_tube)\n",
    "    print(cur_reynolds)\n",
    "\n",
    "    if (cur_reynolds < 2300):\n",
    "        print(\"laminar!!\")\n",
    "        friction = 64 / cur_reynolds\n",
    "    else:\n",
    "        print(\"turbulent!!\")\n",
    "        friction = nsolve((1/sp.sqrt(f)) + (2*sp.log(((e/d_tube)/3.7)+(2.51/(cur_reynolds*sp.sqrt(f))),10)), f)\n",
    "        # friction = 4\n",
    "        print(friction)\n",
    "        # friction = friction[0]\n",
    "\n",
    "    \n",
    "\n",
    "    v_tube_sol =solve(\n",
    "        (0.5 * density * ((area_tube / area_tank)**2) * (v_tube**2))\n",
    "        + (density * g * h_water)\n",
    "        - (0.5*density*(v_tube**2))\n",
    "        - ((density * g) * friction * (l_tube * (v_tube_sol**2) / (2*g*d_tube)))\n",
    "        - ((density * g) *(k * ((v_tube_sol**2)/(2*g)))),\n",
    "        v_tube)[1]\n",
    "\n",
    "    print(h_water)\n",
    "\n",
    "    t_drain += t_interval\n",
    "\n",
    "\n",
    "\n",
    "\n",
    "    "
   ]
  },
  {
   "cell_type": "markdown",
   "metadata": {},
   "source": []
  },
  {
   "cell_type": "markdown",
   "metadata": {},
   "source": []
  },
  {
   "cell_type": "code",
   "execution_count": null,
   "metadata": {},
   "outputs": [],
   "source": [
    "\n",
    "print(t_drain / 60)\n",
    "    \n"
   ]
  }
 ],
 "metadata": {
  "kernelspec": {
   "display_name": "Python 3",
   "language": "python",
   "name": "python3"
  },
  "language_info": {
   "codemirror_mode": {
    "name": "ipython",
    "version": 3
   },
   "file_extension": ".py",
   "mimetype": "text/x-python",
   "name": "python",
   "nbconvert_exporter": "python",
   "pygments_lexer": "ipython3",
   "version": "3.9.6"
  },
  "orig_nbformat": 4
 },
 "nbformat": 4,
 "nbformat_minor": 2
}
