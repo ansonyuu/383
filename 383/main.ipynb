{
 "cells": [
  {
   "cell_type": "code",
   "execution_count": 1,
   "metadata": {},
   "outputs": [
    {
     "name": "stdout",
     "output_type": "stream",
     "text": [
      "Requirement already satisfied: sympy in /Users/janani/Desktop/3A/syde 383/383/.venv/lib/python3.11/site-packages (1.12)\n",
      "Requirement already satisfied: mpmath>=0.19 in /Users/janani/Desktop/3A/syde 383/383/.venv/lib/python3.11/site-packages (from sympy) (1.3.0)\n",
      "Note: you may need to restart the kernel to use updated packages.\n"
     ]
    }
   ],
   "source": [
    "# Formula for laminar volumetric flow\n",
    "%pip install -U sympy"
   ]
  },
  {
   "cell_type": "markdown",
   "metadata": {},
   "source": [
    "## Importing Packages"
   ]
  },
  {
   "cell_type": "code",
   "execution_count": 2,
   "metadata": {},
   "outputs": [],
   "source": [
    "import math\n",
    "import sympy as sp\n",
    "from sympy.solvers import solve, nsolve\n",
    "from sympy import Symbol"
   ]
  },
  {
   "cell_type": "markdown",
   "metadata": {},
   "source": [
    "## Defining Variables"
   ]
  },
  {
   "cell_type": "code",
   "execution_count": 3,
   "metadata": {},
   "outputs": [],
   "source": [
    "# DEFINE PARAMETERS\n",
    "l_tube = 0.2  # [m]\n",
    "l_tank = 0.32  # [m]\n",
    "w_tank = 0.26  # [m]\n",
    "h_water_initial = 0.1  # [m]\n",
    "h_water_final = 0.02  # [m]\n",
    "d_straight_tube = 7.94 * (10**-3)  # [m]\n",
    "d_t_joint_tube = 11.25 * (10**-3)  # [m]\n",
    "\n",
    "\n",
    "# DEFINE RELEVANT SURFACE AREAS\n",
    "# Area of Tank\n",
    "area_tank = l_tank * w_tank  # [m^2]\n",
    "# Area of Straight Tube\n",
    "area_tube = math.pi * (d_straight_tube / 2) ** 2  # [m^2]\n",
    "# Area of T-joint Outlets\n",
    "area_tube_t_joint = 2 * math.pi * (d_t_joint_tube / 2) ** 2  # [m^2]\n",
    "\n",
    "\n",
    "## DEFINE CONSTANTS\n",
    "density = 1000  # [kg/m^3]\n",
    "viscosity = 8.9 * 10**-4  # [Pa*s]\n",
    "g = 9.81  # [m/s^2]\n",
    "e = 0.0025 * (10**-3)  # [m]\n",
    "k = 0.42  # [n/a]\n",
    "\n",
    "## DEFINE MODELLING VARIABLES\n",
    "t_interval = 1  # [s], size of time step\n",
    "t_drain = 0  # [s], total drainage time"
   ]
  },
  {
   "cell_type": "markdown",
   "metadata": {},
   "source": [
    "## Helper Functions"
   ]
  },
  {
   "cell_type": "code",
   "execution_count": 4,
   "metadata": {},
   "outputs": [],
   "source": [
    "def reynolds(velocity, length):\n",
    "    return density * velocity * length / viscosity"
   ]
  },
  {
   "cell_type": "markdown",
   "metadata": {},
   "source": [
    "## Model Fluid Drainage"
   ]
  },
  {
   "cell_type": "code",
   "execution_count": 5,
   "metadata": {},
   "outputs": [],
   "source": [
    "# Compute initial velocity\n",
    "# Assume laminar flow\n",
    "v_tube = Symbol(\"v_tube\")\n",
    "v_tube_sol = solve(\n",
    "    (0.5 * density * ((area_tube / area_tank) ** 2) * (v_tube**2))\n",
    "    + (density * g * h_water_initial)\n",
    "    - (0.5 * density * (v_tube**2))\n",
    "    - (\n",
    "        (density * g)\n",
    "        * (64 / ((density * v_tube * d_straight_tube) / viscosity))\n",
    "        * (l_tube * v_tube**2 / (2 * g * d_straight_tube))\n",
    "    ),\n",
    "    v_tube,\n",
    ")[1]"
   ]
  },
  {
   "cell_type": "code",
   "execution_count": 7,
   "metadata": {},
   "outputs": [
    {
     "name": "stdout",
     "output_type": "stream",
     "text": [
      "11716.1841694937\n",
      "turbulent!!\n"
     ]
    },
    {
     "ename": "TypeError",
     "evalue": "cannot create mpf from f",
     "output_type": "error",
     "traceback": [
      "\u001b[0;31m---------------------------------------------------------------------------\u001b[0m",
      "\u001b[0;31mTypeError\u001b[0m                                 Traceback (most recent call last)",
      "Cell \u001b[0;32mIn[7], line 19\u001b[0m\n\u001b[1;32m     17\u001b[0m \u001b[39melse\u001b[39;00m:\n\u001b[1;32m     18\u001b[0m     \u001b[39mprint\u001b[39m(\u001b[39m\"\u001b[39m\u001b[39mturbulent!!\u001b[39m\u001b[39m\"\u001b[39m)\n\u001b[0;32m---> 19\u001b[0m     friction \u001b[39m=\u001b[39m nsolve(\n\u001b[1;32m     20\u001b[0m         (\u001b[39m1\u001b[39;49m \u001b[39m/\u001b[39;49m sp\u001b[39m.\u001b[39;49msqrt(f))\n\u001b[1;32m     21\u001b[0m         \u001b[39m+\u001b[39;49m (\n\u001b[1;32m     22\u001b[0m             \u001b[39m2\u001b[39;49m\n\u001b[1;32m     23\u001b[0m             \u001b[39m*\u001b[39;49m sp\u001b[39m.\u001b[39;49mlog(\n\u001b[1;32m     24\u001b[0m                 ((e \u001b[39m/\u001b[39;49m d_straight_tube) \u001b[39m/\u001b[39;49m \u001b[39m3.7\u001b[39;49m)\n\u001b[1;32m     25\u001b[0m                 \u001b[39m+\u001b[39;49m (\u001b[39m2.51\u001b[39;49m \u001b[39m/\u001b[39;49m (cur_reynolds \u001b[39m*\u001b[39;49m sp\u001b[39m.\u001b[39;49msqrt(f)))\n\u001b[1;32m     26\u001b[0m             )\n\u001b[1;32m     27\u001b[0m         ),\n\u001b[1;32m     28\u001b[0m         f,\n\u001b[1;32m     29\u001b[0m         tol\u001b[39m=\u001b[39;49m\u001b[39m0.15\u001b[39;49m,\n\u001b[1;32m     30\u001b[0m     )\n\u001b[1;32m     31\u001b[0m     \u001b[39mprint\u001b[39m(friction)\n\u001b[1;32m     32\u001b[0m     \u001b[39m# friction = friction[0]\u001b[39;00m\n",
      "File \u001b[0;32m~/Desktop/3A/syde 383/383/.venv/lib/python3.11/site-packages/sympy/utilities/decorator.py:87\u001b[0m, in \u001b[0;36mconserve_mpmath_dps.<locals>.func_wrapper\u001b[0;34m(*args, **kwargs)\u001b[0m\n\u001b[1;32m     85\u001b[0m dps \u001b[39m=\u001b[39m mpmath\u001b[39m.\u001b[39mmp\u001b[39m.\u001b[39mdps\n\u001b[1;32m     86\u001b[0m \u001b[39mtry\u001b[39;00m:\n\u001b[0;32m---> 87\u001b[0m     \u001b[39mreturn\u001b[39;00m func(\u001b[39m*\u001b[39;49margs, \u001b[39m*\u001b[39;49m\u001b[39m*\u001b[39;49mkwargs)\n\u001b[1;32m     88\u001b[0m \u001b[39mfinally\u001b[39;00m:\n\u001b[1;32m     89\u001b[0m     mpmath\u001b[39m.\u001b[39mmp\u001b[39m.\u001b[39mdps \u001b[39m=\u001b[39m dps\n",
      "File \u001b[0;32m~/Desktop/3A/syde 383/383/.venv/lib/python3.11/site-packages/sympy/solvers/solvers.py:3044\u001b[0m, in \u001b[0;36mnsolve\u001b[0;34m(dict, *args, **kwargs)\u001b[0m\n\u001b[1;32m   3038\u001b[0m \u001b[39m# the function is much better behaved if there is no denominator\u001b[39;00m\n\u001b[1;32m   3039\u001b[0m \u001b[39m# but sending the numerator is left to the user since sometimes\u001b[39;00m\n\u001b[1;32m   3040\u001b[0m \u001b[39m# the function is better behaved when the denominator is present\u001b[39;00m\n\u001b[1;32m   3041\u001b[0m \u001b[39m# e.g., issue 11768\u001b[39;00m\n\u001b[1;32m   3043\u001b[0m f \u001b[39m=\u001b[39m lambdify(fargs, f, modules)\n\u001b[0;32m-> 3044\u001b[0m x \u001b[39m=\u001b[39m sympify(findroot(f, x0, \u001b[39m*\u001b[39;49m\u001b[39m*\u001b[39;49mkwargs))\n\u001b[1;32m   3045\u001b[0m \u001b[39mif\u001b[39;00m as_dict:\n\u001b[1;32m   3046\u001b[0m     \u001b[39mreturn\u001b[39;00m [{fargs: x}]\n",
      "File \u001b[0;32m~/Desktop/3A/syde 383/383/.venv/lib/python3.11/site-packages/mpmath/calculus/optimization.py:920\u001b[0m, in \u001b[0;36mfindroot\u001b[0;34m(ctx, f, x0, solver, tol, verbose, verify, **kwargs)\u001b[0m\n\u001b[1;32m    918\u001b[0m     x0 \u001b[39m=\u001b[39m [ctx\u001b[39m.\u001b[39mconvert(x) \u001b[39mfor\u001b[39;00m x \u001b[39min\u001b[39;00m x0]\n\u001b[1;32m    919\u001b[0m \u001b[39melse\u001b[39;00m:\n\u001b[0;32m--> 920\u001b[0m     x0 \u001b[39m=\u001b[39m [ctx\u001b[39m.\u001b[39;49mconvert(x0)]\n\u001b[1;32m    922\u001b[0m \u001b[39mif\u001b[39;00m \u001b[39misinstance\u001b[39m(solver, \u001b[39mstr\u001b[39m):\n\u001b[1;32m    923\u001b[0m     \u001b[39mtry\u001b[39;00m:\n",
      "File \u001b[0;32m~/Desktop/3A/syde 383/383/.venv/lib/python3.11/site-packages/mpmath/ctx_mp_python.py:671\u001b[0m, in \u001b[0;36mPythonMPContext.convert\u001b[0;34m(ctx, x, strings)\u001b[0m\n\u001b[1;32m    669\u001b[0m     \u001b[39mtry\u001b[39;00m: \u001b[39mreturn\u001b[39;00m ctx\u001b[39m.\u001b[39mmake_mpf(from_Decimal(x, prec, rounding))\n\u001b[1;32m    670\u001b[0m     \u001b[39mexcept\u001b[39;00m: \u001b[39mpass\u001b[39;00m\n\u001b[0;32m--> 671\u001b[0m \u001b[39mreturn\u001b[39;00m ctx\u001b[39m.\u001b[39;49m_convert_fallback(x, strings)\n",
      "File \u001b[0;32m~/Desktop/3A/syde 383/383/.venv/lib/python3.11/site-packages/mpmath/ctx_mp.py:634\u001b[0m, in \u001b[0;36mMPContext._convert_fallback\u001b[0;34m(ctx, x, strings)\u001b[0m\n\u001b[1;32m    632\u001b[0m     \u001b[39melse\u001b[39;00m:\n\u001b[1;32m    633\u001b[0m         \u001b[39mraise\u001b[39;00m \u001b[39mValueError\u001b[39;00m(\u001b[39m\"\u001b[39m\u001b[39mcan only create mpf from zero-width interval\u001b[39m\u001b[39m\"\u001b[39m)\n\u001b[0;32m--> 634\u001b[0m \u001b[39mraise\u001b[39;00m \u001b[39mTypeError\u001b[39;00m(\u001b[39m\"\u001b[39m\u001b[39mcannot create mpf from \u001b[39m\u001b[39m\"\u001b[39m \u001b[39m+\u001b[39m \u001b[39mrepr\u001b[39m(x))\n",
      "\u001b[0;31mTypeError\u001b[0m: cannot create mpf from f"
     ]
    }
   ],
   "source": [
    "# Iteratively solve Bernoulli's equation to find total drainage time\n",
    "h_water = h_water_initial  # [m], set current height of water in tank to initial height\n",
    "\n",
    "while h_water > h_water_final:\n",
    "    h_water -= (area_tube / area_tank) * v_tube_sol * t_interval\n",
    "\n",
    "    # initialize symbols for implicit equation\n",
    "    v_tube = Symbol(\"v_tube\")\n",
    "    f = Symbol(\"f\")\n",
    "\n",
    "    cur_reynolds = reynolds(v_tube_sol, d_straight_tube)\n",
    "    print(cur_reynolds)\n",
    "\n",
    "    if cur_reynolds < 2300:\n",
    "        print(\"laminar!!\")\n",
    "        friction = 64 / cur_reynolds\n",
    "    else:\n",
    "        print(\"turbulent!!\")\n",
    "        friction = nsolve(\n",
    "            (1 / sp.sqrt(f))\n",
    "            + (\n",
    "                2\n",
    "                * sp.log(\n",
    "                    ((e / d_straight_tube) / 3.7) + (2.51 / (cur_reynolds * sp.sqrt(f)))\n",
    "                )\n",
    "            ),\n",
    "            f,\n",
    "            0.01,\n",
    "            tol=0.15,\n",
    "        )\n",
    "        print(friction)\n",
    "        # friction = friction[0]\n",
    "\n",
    "    v_tube_sol = solve(\n",
    "        (0.5 * density * ((area_tube / area_tank) ** 2) * (v_tube**2))\n",
    "        + (density * g * h_water)\n",
    "        - (0.5 * density * (v_tube**2))\n",
    "        - (\n",
    "            (density * g)\n",
    "            * friction\n",
    "            * (l_tube * (v_tube_sol**2) / (2 * g * d_straight_tube))\n",
    "        )\n",
    "        - ((density * g) * (k * ((v_tube_sol**2) / (2 * g)))),\n",
    "        v_tube,\n",
    "    )[1]\n",
    "\n",
    "    print(h_water)\n",
    "\n",
    "    t_drain += t_interval"
   ]
  },
  {
   "cell_type": "code",
   "execution_count": null,
   "metadata": {},
   "outputs": [],
   "source": [
    "print(t_drain / 60)"
   ]
  }
 ],
 "metadata": {
  "kernelspec": {
   "display_name": "Python 3",
   "language": "python",
   "name": "python3"
  },
  "language_info": {
   "codemirror_mode": {
    "name": "ipython",
    "version": 3
   },
   "file_extension": ".py",
   "mimetype": "text/x-python",
   "name": "python",
   "nbconvert_exporter": "python",
   "pygments_lexer": "ipython3",
   "version": "3.11.1"
  },
  "orig_nbformat": 4
 },
 "nbformat": 4,
 "nbformat_minor": 2
}
