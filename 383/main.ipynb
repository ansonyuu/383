{
 "cells": [
  {
   "cell_type": "code",
   "execution_count": 8,
   "metadata": {},
   "outputs": [
    {
     "name": "stdout",
     "output_type": "stream",
     "text": [
      "Defaulting to user installation because normal site-packages is not writeable\n",
      "Requirement already satisfied: sympy in /Users/ansonyu/Library/Python/3.9/lib/python/site-packages (1.12)\n",
      "Requirement already satisfied: mpmath>=0.19 in /Users/ansonyu/Library/Python/3.9/lib/python/site-packages (from sympy) (1.3.0)\n",
      "\u001b[33mWARNING: You are using pip version 21.2.4; however, version 23.2.1 is available.\n",
      "You should consider upgrading via the '/Library/Developer/CommandLineTools/usr/bin/python3 -m pip install --upgrade pip' command.\u001b[0m\n",
      "Note: you may need to restart the kernel to use updated packages.\n"
     ]
    }
   ],
   "source": [
    "# Formula for laminar volumetric flow\n",
    "%pip install -U sympy "
   ]
  },
  {
   "cell_type": "markdown",
   "metadata": {},
   "source": [
    "# Importing Packages"
   ]
  },
  {
   "cell_type": "code",
   "execution_count": 9,
   "metadata": {},
   "outputs": [],
   "source": [
    "import sympy as sp\n",
    "from sympy.solvers import solve\n",
    "from sympy import Symbol\n",
    "import math\n"
   ]
  },
  {
   "cell_type": "markdown",
   "metadata": {},
   "source": [
    "# Defining Variables"
   ]
  },
  {
   "cell_type": "code",
   "execution_count": 10,
   "metadata": {},
   "outputs": [],
   "source": [
    "# DEFINE PARAMETERS\n",
    "l_tube = 0.2 # [m]\n",
    "h_water_initial = 0.1 # [m]\n",
    "h_water_final = 0.02 # [m]\n",
    "d_tube = 7.94 * 10**-3 # [m]\n",
    "v_tank = 0\n",
    "area_tank = 0.32 * 0.26 # [m^2]\n",
    "t_final = 0 # [s]\n",
    "\n",
    "# Area of Tube, use only 1:\n",
    "# 1. Without t-joint\n",
    "area_tube = math.pi * (d_tube / 2)**2 # [m^2]\n",
    "# 2. With t-joint\n",
    "# area_tube_t_joint = 2 * area_tube # [m^2]\n",
    "\n",
    "\n",
    "## DEFINE CONSTANTS\n",
    "density = 1000 # [kg/m^3]\n",
    "viscosity = 8.9 * 10**-4 # [Pa*s]\n",
    "g = 9.81 # [m/s^2]\n",
    "e = 0.0025 *(10**-3) #[m]\n",
    "\n",
    "## DEFINE MODELLING VARIABLES\n",
    "t_interval = 0.1 # [s]\n",
    "t_drain = 0 # [s]\n",
    "h_water = h_water_initial # [m]\n",
    "initial = True"
   ]
  },
  {
   "cell_type": "code",
   "execution_count": 11,
   "metadata": {},
   "outputs": [],
   "source": [
    "# HELPER FUNCTIONS\n",
    "# def ht(v_tube, t):\n",
    "#     ht = 0.1 - (area_tube / area_tank) * v_tube * t\n",
    "#     return ht\n",
    "\n",
    "def reynolds(velocity, length):\n",
    "    return (density * velocity * length / viscosity)\n",
    "\n",
    "# CALCULATION - INITIAL CONDITIONS\n",
    "v_tube = Symbol('v_tube')\n",
    "v_tube_sol = solve(\n",
    "    (0.5 * density * ((area_tube / area_tank)**2) * (v_tube**2))\n",
    "    + (density * g * h_water_initial)\n",
    "    - (0.5*density*(v_tube**2))\n",
    "    - ((density * g) * (64 / ((density * v_tube * d_tube) / viscosity)) * (l_tube * v_tube**2 / (2*g*d_tube)) ),\n",
    "    v_tube)[1]\n",
    "    "
   ]
  },
  {
   "cell_type": "code",
   "execution_count": 14,
   "metadata": {},
   "outputs": [
    {
     "ename": "TypeError",
     "evalue": "cannot determine truth value of Relational",
     "output_type": "error",
     "traceback": [
      "\u001b[0;31m---------------------------------------------------------------------------\u001b[0m",
      "\u001b[0;31mTypeError\u001b[0m                                 Traceback (most recent call last)",
      "Cell \u001b[0;32mIn[14], line 4\u001b[0m\n\u001b[1;32m      1\u001b[0m \u001b[39mdef\u001b[39;00m \u001b[39mreynolds\u001b[39m(velocity, length):\n\u001b[1;32m      2\u001b[0m     \u001b[39mreturn\u001b[39;00m (density \u001b[39m*\u001b[39m velocity \u001b[39m*\u001b[39m length \u001b[39m/\u001b[39m viscosity)\n\u001b[0;32m----> 4\u001b[0m \u001b[39mwhile\u001b[39;00m(h_water \u001b[39m>\u001b[39m h_water_final):\n\u001b[1;32m      6\u001b[0m     h_water \u001b[39m-\u001b[39m\u001b[39m=\u001b[39m (area_tube \u001b[39m/\u001b[39m area_tank) \u001b[39m*\u001b[39m v_tube_sol \u001b[39m*\u001b[39m t_interval\n\u001b[1;32m      8\u001b[0m     \u001b[39m# the imicit equation\u001b[39;00m\n",
      "File \u001b[0;32m~/Library/Python/3.9/lib/python/site-packages/sympy/core/relational.py:510\u001b[0m, in \u001b[0;36mRelational.__bool__\u001b[0;34m(self)\u001b[0m\n\u001b[1;32m    509\u001b[0m \u001b[39mdef\u001b[39;00m \u001b[39m__bool__\u001b[39m(\u001b[39mself\u001b[39m):\n\u001b[0;32m--> 510\u001b[0m     \u001b[39mraise\u001b[39;00m \u001b[39mTypeError\u001b[39;00m(\u001b[39m\"\u001b[39m\u001b[39mcannot determine truth value of Relational\u001b[39m\u001b[39m\"\u001b[39m)\n",
      "\u001b[0;31mTypeError\u001b[0m: cannot determine truth value of Relational"
     ]
    }
   ],
   "source": [
    "def reynolds(velocity, length):\n",
    "    return (density * velocity * length / viscosity)\n",
    "\n",
    "while(h_water > h_water_final):\n",
    "\n",
    "    h_water -= (area_tube / area_tank) * v_tube_sol * t_interval\n",
    "\n",
    "    # the imicit equation\n",
    "    v_tube = Symbol('v_tube')\n",
    "    f =  Symbol('f')\n",
    "    cur_reynolds = reynolds(v_tube_sol, d_tube)\n",
    "    print(cur_reynolds)\n",
    "\n",
    "    if (cur_reynolds < 2300):\n",
    "        v_tube_sol= solve(\n",
    "        (0.5 * density * ((area_tube / area_tank)**2) * (v_tube**2))\n",
    "        + (density * g * h_water)\n",
    "        - (0.5*density*(v_tube**2))\n",
    "        - ((density * g) * (64 / ((density * v_tube * d_tube) / viscosity)) * (l_tube * v_tube**2 / (2*g*d_tube)) ),\n",
    "        v_tube)[1]\n",
    "    else:\n",
    "        friction = solve((1/sp.sqrt(f)) + 2*sp.log((e/d_tube)/3.7)+(2.51/cur_reynolds*sp.sqrt(f)), f)\n",
    "        v_tube_sol= solve(\n",
    "        (0.5 * density * ((area_tube / area_tank)**2) * (v_tube**2))\n",
    "        + (density * g * h_water)\n",
    "        - (0.5*density*(v_tube**2))\n",
    "        - ((density * g) * (64 / ((density * v_tube * d_tube) / viscosity)) * (l_tube * v_tube**2 / (2*g*d_tube)) ),\n",
    "        v_tube)[1]\n",
    "\n",
    "\n",
    "    print(h_water)\n",
    "\n",
    "    t_drain += t_interval\n",
    "\n",
    "\n",
    "\n",
    "\n",
    "    "
   ]
  },
  {
   "cell_type": "code",
   "execution_count": null,
   "metadata": {},
   "outputs": [
    {
     "name": "stdout",
     "output_type": "stream",
     "text": [
      "2.4283333333332666\n"
     ]
    }
   ],
   "source": [
    "\n",
    "print(t_drain / 60)\n",
    "    \n"
   ]
  }
 ],
 "metadata": {
  "kernelspec": {
   "display_name": "Python 3",
   "language": "python",
   "name": "python3"
  },
  "language_info": {
   "codemirror_mode": {
    "name": "ipython",
    "version": 3
   },
   "file_extension": ".py",
   "mimetype": "text/x-python",
   "name": "python",
   "nbconvert_exporter": "python",
   "pygments_lexer": "ipython3",
   "version": "3.9.6"
  },
  "orig_nbformat": 4
 },
 "nbformat": 4,
 "nbformat_minor": 2
}
