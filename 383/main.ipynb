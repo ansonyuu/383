{
 "cells": [
  {
   "cell_type": "code",
   "execution_count": 31,
   "metadata": {},
   "outputs": [
    {
     "name": "stdout",
     "output_type": "stream",
     "text": [
      "Defaulting to user installation because normal site-packages is not writeable\n",
      "Requirement already satisfied: sympy in /Users/ansonyu/Library/Python/3.9/lib/python/site-packages (1.12)\n",
      "Requirement already satisfied: mpmath>=0.19 in /Users/ansonyu/Library/Python/3.9/lib/python/site-packages (from sympy) (1.3.0)\n",
      "\u001b[33mWARNING: You are using pip version 21.2.4; however, version 23.2.1 is available.\n",
      "You should consider upgrading via the '/Library/Developer/CommandLineTools/usr/bin/python3 -m pip install --upgrade pip' command.\u001b[0m\n",
      "Note: you may need to restart the kernel to use updated packages.\n"
     ]
    }
   ],
   "source": [
    "# Formula for laminar volumetric flow\n",
    "%pip install -U sympy "
   ]
  },
  {
   "cell_type": "markdown",
   "metadata": {},
   "source": [
    "# Importing Packages"
   ]
  },
  {
   "cell_type": "code",
   "execution_count": 32,
   "metadata": {},
   "outputs": [],
   "source": [
    "import sympy as sp\n",
    "from sympy.solvers import solve\n",
    "from sympy import Symbol\n",
    "import math\n"
   ]
  },
  {
   "cell_type": "markdown",
   "metadata": {},
   "source": [
    "# Defining Variables"
   ]
  },
  {
   "cell_type": "code",
   "execution_count": 33,
   "metadata": {},
   "outputs": [],
   "source": [
    "# DEFINE PARAMETERS\n",
    "l_tube = 0.1 # [m]\n",
    "h_water_initial = 0.1 # [m]\n",
    "h_water_final = 0.02 # [m]\n",
    "d_tube = 7.94 * 10**-3 # [m]\n",
    "v_tank = 0\n",
    "area_tank = 0.32 * 0.26 # [m^2]\n",
    "t_final = 0 # [s]\n",
    "\n",
    "# Area of Tube, use only 1:\n",
    "# 1. Without t-joint\n",
    "area_tube = math.pi * (d_tube / 2)**2 # [m^2]\n",
    "# 2. With t-joint\n",
    "# area_tube_t_joint = 2 * area_tube # [m^2]\n",
    "\n",
    "\n",
    "## DEFINE CONSTANTS\n",
    "density = 1000 # [kg/m^3]\n",
    "viscosity = 8.9 * 10**-4 # [Pa*s]\n",
    "g = 9.81 # [m/s^2]\n",
    "t_interval = 0.1 # [s]\n",
    "t_drain = 0 # [s]"
   ]
  },
  {
   "cell_type": "code",
   "execution_count": 34,
   "metadata": {},
   "outputs": [
    {
     "ename": "ZeroDivisionError",
     "evalue": "float division by zero",
     "output_type": "error",
     "traceback": [
      "\u001b[0;31m---------------------------------------------------------------------------\u001b[0m",
      "\u001b[0;31mZeroDivisionError\u001b[0m                         Traceback (most recent call last)",
      "Cell \u001b[0;32mIn[34], line 13\u001b[0m\n\u001b[1;32m      7\u001b[0m     \u001b[39mreturn\u001b[39;00m (density \u001b[39m*\u001b[39m velocity \u001b[39m*\u001b[39m length \u001b[39m/\u001b[39m viscosity)\n\u001b[1;32m      9\u001b[0m \u001b[39m# CALCULATION - INITIAL CONDITIONS\u001b[39;00m\n\u001b[1;32m     10\u001b[0m v_tube_initial \u001b[39m=\u001b[39m solve(((\u001b[39m0.5\u001b[39m \u001b[39m*\u001b[39m density \u001b[39m*\u001b[39m (area_tube \u001b[39m/\u001b[39m area_tank) \u001b[39m*\u001b[39m v_tube\u001b[39m*\u001b[39m\u001b[39m*\u001b[39m\u001b[39m2\u001b[39m)\n\u001b[1;32m     11\u001b[0m         \u001b[39m+\u001b[39m density \u001b[39m*\u001b[39m g \u001b[39m*\u001b[39m (h_water_initial)\n\u001b[1;32m     12\u001b[0m         \u001b[39m-\u001b[39m (\u001b[39m0.5\u001b[39m\u001b[39m*\u001b[39mdensity \u001b[39m*\u001b[39mv_tube\u001b[39m*\u001b[39m\u001b[39m*\u001b[39m\u001b[39m2\u001b[39m))\n\u001b[0;32m---> 13\u001b[0m         \u001b[39m-\u001b[39m \u001b[39m64\u001b[39;49m \u001b[39m/\u001b[39;49m reynolds(v_tube, l_tube), \n\u001b[1;32m     14\u001b[0m         v_tube)\n\u001b[1;32m     16\u001b[0m \u001b[39mprint\u001b[39m(v_tube_initial)\n",
      "\u001b[0;31mZeroDivisionError\u001b[0m: float division by zero"
     ]
    }
   ],
   "source": [
    "# HELPER FUNCTIONS\n",
    "def ht(v_tube, t):\n",
    "    ht = 0.1 - (area_tank - area_tube) * v_tube * t\n",
    "    return ht\n",
    "\n",
    "def reynolds(velocity, length):\n",
    "    return (density * velocity * length / viscosity)\n",
    "\n",
    "# CALCULATION - INITIAL CONDITIONS\n",
    "v_tube_initial = solve(((0.5 * density * (area_tube / area_tank) * v_tube**2)\n",
    "        + density * g * (h_water_initial)\n",
    "        - (0.5*density *v_tube**2))\n",
    "        - 64 / reynolds(v_tube, l_tube), \n",
    "        v_tube)\n",
    "\n",
    "print(v_tube_initial)\n"
   ]
  },
  {
   "cell_type": "code",
   "execution_count": null,
   "metadata": {},
   "outputs": [],
   "source": [
    "\n",
    "# CALCULATION - FINAL TIME\n",
    "while(h_water > h_water_final):\n",
    "    \n",
    "    h_water = ht(v_tube, t_interval)\n",
    "\n",
    "    # the implicit equation\n",
    "    v_tube = Symbol('v_tube')\n",
    "    h_losses = Symbol('h_losses')\n",
    "    \n",
    "\n",
    "    solve(((0.5 * density * (area_tube / area_tank) * v_tube**2)\n",
    "        + density * g * (h_water)\n",
    "        - (0.5*density *v_tube**2))\n",
    "        - h_losses,\n",
    "        v_tube)\n",
    "\n",
    "    print(v_tube,h_losses)\n",
    "    t_drain += t_interval\n",
    "\n",
    "\n",
    "    "
   ]
  },
  {
   "cell_type": "code",
   "execution_count": null,
   "metadata": {},
   "outputs": [],
   "source": [
    "\n",
    "    \n"
   ]
  }
 ],
 "metadata": {
  "kernelspec": {
   "display_name": "Python 3",
   "language": "python",
   "name": "python3"
  },
  "language_info": {
   "codemirror_mode": {
    "name": "ipython",
    "version": 3
   },
   "file_extension": ".py",
   "mimetype": "text/x-python",
   "name": "python",
   "nbconvert_exporter": "python",
   "pygments_lexer": "ipython3",
   "version": "3.9.6"
  },
  "orig_nbformat": 4
 },
 "nbformat": 4,
 "nbformat_minor": 2
}
